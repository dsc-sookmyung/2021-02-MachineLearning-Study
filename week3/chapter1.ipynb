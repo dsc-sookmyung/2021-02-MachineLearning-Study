{
  "nbformat": 4,
  "nbformat_minor": 0,
  "metadata": {
    "colab": {
      "name": "chapter1.ipynb",
      "provenance": []
    },
    "kernelspec": {
      "name": "python3",
      "display_name": "Python 3"
    },
    "language_info": {
      "name": "python"
    }
  },
  "cells": [
    {
      "cell_type": "code",
      "metadata": {
        "id": "76BE9N1xF9c2"
      },
      "source": [
        "import torch"
      ],
      "execution_count": null,
      "outputs": []
    },
    {
      "cell_type": "code",
      "metadata": {
        "colab": {
          "base_uri": "https://localhost:8080/"
        },
        "id": "79iFBYQwGN4L",
        "outputId": "e7641de8-ad1a-4676-f003-904039ba6e63"
      },
      "source": [
        "# simple pytorch tensor\n",
        "x = torch.tensor(3.5)\n",
        "print(x)"
      ],
      "execution_count": null,
      "outputs": [
        {
          "output_type": "stream",
          "name": "stdout",
          "text": [
            "tensor(3.5000)\n"
          ]
        }
      ]
    },
    {
      "cell_type": "code",
      "metadata": {
        "colab": {
          "base_uri": "https://localhost:8080/"
        },
        "id": "P21EFUiQGOsM",
        "outputId": "262cc73e-c63e-407d-be97-4255e39b5157"
      },
      "source": [
        "# simple arithmetic with tensors\n",
        "y = x + 3\n",
        "print(y)"
      ],
      "execution_count": null,
      "outputs": [
        {
          "output_type": "stream",
          "name": "stdout",
          "text": [
            "tensor(6.5000)\n"
          ]
        }
      ]
    },
    {
      "cell_type": "code",
      "metadata": {
        "colab": {
          "base_uri": "https://localhost:8080/"
        },
        "id": "gnAvcu7CGQV7",
        "outputId": "7e62adcc-f397-4794-cd0a-e58e52334031"
      },
      "source": [
        "# pytorch tensor with gradient enabled\n",
        "x = torch.tensor(3.5, requires_grad=True)\n",
        "print(x)"
      ],
      "execution_count": null,
      "outputs": [
        {
          "output_type": "stream",
          "name": "stdout",
          "text": [
            "tensor(3.5000, requires_grad=True)\n"
          ]
        }
      ]
    },
    {
      "cell_type": "code",
      "metadata": {
        "colab": {
          "base_uri": "https://localhost:8080/"
        },
        "id": "z_MxLDkPGTpD",
        "outputId": "9d713d47-142a-4186-b888-628bc1f34141"
      },
      "source": [
        "# y is defined as a fucnction of x\n",
        "y = (x-1) * (x-2) * (x-3)\n",
        "print(y)"
      ],
      "execution_count": null,
      "outputs": [
        {
          "output_type": "stream",
          "name": "stdout",
          "text": [
            "tensor(1.8750, grad_fn=<MulBackward0>)\n"
          ]
        }
      ]
    },
    {
      "cell_type": "code",
      "metadata": {
        "id": "LhZhf4fCGUmA"
      },
      "source": [
        "# work out gradients\n",
        "y.backward()"
      ],
      "execution_count": null,
      "outputs": []
    },
    {
      "cell_type": "code",
      "metadata": {
        "colab": {
          "base_uri": "https://localhost:8080/"
        },
        "id": "28EjlIXyGZ5h",
        "outputId": "c29650d4-3788-4cdb-8421-4afe171d9785"
      },
      "source": [
        "# what is gradient at x = 3.5\n",
        "x.grad"
      ],
      "execution_count": null,
      "outputs": [
        {
          "output_type": "execute_result",
          "data": {
            "text/plain": [
              "tensor(5.7500)"
            ]
          },
          "metadata": {},
          "execution_count": 10
        }
      ]
    },
    {
      "cell_type": "code",
      "metadata": {
        "id": "AUSyo-U5Gau_"
      },
      "source": [
        "\n",
        "# set up simple graph relating x, y and z\n",
        "x = torch.tensor(3.5, requires_grad=True)\n",
        "y = x * x\n",
        "z = 2 * y + 3"
      ],
      "execution_count": null,
      "outputs": []
    },
    {
      "cell_type": "code",
      "metadata": {
        "id": "95NfH7HbGedz"
      },
      "source": [
        "# work out gradients\n",
        "z.backward()"
      ],
      "execution_count": null,
      "outputs": []
    },
    {
      "cell_type": "code",
      "metadata": {
        "colab": {
          "base_uri": "https://localhost:8080/"
        },
        "id": "gDBztPM7GgIU",
        "outputId": "6301d459-69e1-4adc-8343-45b27aa8bdf9"
      },
      "source": [
        "# what is gradient at x = 3.5\n",
        "print(x.grad)"
      ],
      "execution_count": null,
      "outputs": [
        {
          "output_type": "stream",
          "name": "stdout",
          "text": [
            "tensor(14.)\n"
          ]
        }
      ]
    },
    {
      "cell_type": "code",
      "metadata": {
        "id": "vxYXfr_lGg3r"
      },
      "source": [
        "# set up simple graph relating x, y and z\n",
        "a = torch.tensor(2.0, requires_grad=True)\n",
        "b = torch.tensor(1.0, requires_grad=True)\n",
        "\n",
        "x = 2 * a + 3 * b\n",
        "y = 5 * a * a + 3 * b * b * b\n",
        "z = 2 * x + 3 * y"
      ],
      "execution_count": null,
      "outputs": []
    },
    {
      "cell_type": "code",
      "metadata": {
        "id": "cdWpIXwHGh6i"
      },
      "source": [
        "# work out gradients\n",
        "z.backward()"
      ],
      "execution_count": null,
      "outputs": []
    },
    {
      "cell_type": "code",
      "metadata": {
        "colab": {
          "base_uri": "https://localhost:8080/"
        },
        "id": "LQwFzdh6GjGw",
        "outputId": "3dd363a8-7cf5-4dce-9406-e502eb86ae16"
      },
      "source": [
        "# what is gradient at a = 2.0\n",
        "a.grad"
      ],
      "execution_count": null,
      "outputs": [
        {
          "output_type": "execute_result",
          "data": {
            "text/plain": [
              "tensor(64.)"
            ]
          },
          "metadata": {},
          "execution_count": 16
        }
      ]
    },
    {
      "cell_type": "code",
      "metadata": {
        "id": "EI-7pI5XGkHx"
      },
      "source": [
        ""
      ],
      "execution_count": null,
      "outputs": []
    }
  ]
}