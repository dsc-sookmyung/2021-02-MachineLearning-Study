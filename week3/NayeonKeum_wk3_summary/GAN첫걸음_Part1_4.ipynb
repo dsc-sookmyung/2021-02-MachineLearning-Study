{
  "nbformat": 4,
  "nbformat_minor": 0,
  "metadata": {
    "colab": {
      "name": "GAN첫걸음_Part1-4.ipynb",
      "provenance": []
    },
    "kernelspec": {
      "name": "python3",
      "display_name": "Python 3"
    },
    "language_info": {
      "name": "python"
    },
    "accelerator": "GPU"
  },
  "cells": [
    {
      "cell_type": "code",
      "metadata": {
        "id": "eXlcZjcXUoz1"
      },
      "source": [
        "import torch\n",
        "import numpy"
      ],
      "execution_count": 1,
      "outputs": []
    },
    {
      "cell_type": "code",
      "metadata": {
        "id": "WkOobTcbU-Pd"
      },
      "source": [
        "size=600\n",
        "\n",
        "a=numpy.random.rand(size, size)\n",
        "b=numpy.random.rand(size, size)"
      ],
      "execution_count": 2,
      "outputs": []
    },
    {
      "cell_type": "code",
      "metadata": {
        "colab": {
          "base_uri": "https://localhost:8080/"
        },
        "id": "oEs8REQyU-xn",
        "outputId": "a821b72d-d19f-43d4-a00d-da47e9634428"
      },
      "source": [
        "%%timeit\n",
        "\n",
        "x=numpy.dot(a, b)"
      ],
      "execution_count": 3,
      "outputs": [
        {
          "output_type": "stream",
          "name": "stdout",
          "text": [
            "100 loops, best of 5: 13.6 ms per loop\n"
          ]
        }
      ]
    },
    {
      "cell_type": "code",
      "metadata": {
        "colab": {
          "base_uri": "https://localhost:8080/"
        },
        "id": "mNta-la2U-0j",
        "outputId": "20961c41-b95a-43ab-f030-bcb6ac2517e2"
      },
      "source": [
        "%%timeit\n",
        "\n",
        "c=numpy.zeros((size, size))\n",
        "\n",
        "for i in range(size):\n",
        "  for j in range(size):\n",
        "    for k in range(size):\n",
        "      c[i,j]+=a[i,k]*b[k,j]\n",
        "    pass\n",
        "  pass"
      ],
      "execution_count": 4,
      "outputs": [
        {
          "output_type": "stream",
          "name": "stdout",
          "text": [
            "1 loop, best of 5: 3min 7s per loop\n"
          ]
        }
      ]
    },
    {
      "cell_type": "code",
      "metadata": {
        "colab": {
          "base_uri": "https://localhost:8080/"
        },
        "id": "ABifOrACU-3d",
        "outputId": "5bf5aa61-647c-44d2-a11e-362482976eeb"
      },
      "source": [
        "x=torch.FloatTensor([3.5])\n",
        "x.type()"
      ],
      "execution_count": 5,
      "outputs": [
        {
          "output_type": "stream",
          "name": "stdout",
          "text": [
            "tensor(3.5000)\n"
          ]
        }
      ]
    },
    {
      "cell_type": "code",
      "metadata": {
        "colab": {
          "base_uri": "https://localhost:8080/",
          "height": 34
        },
        "id": "NWg1sZiLU-6I",
        "outputId": "41f6c716-60f5-4559-a871-58e767891a82"
      },
      "source": [
        "x=torch.cuda.FloatTensor([3.5])\n",
        "x.type()"
      ],
      "execution_count": 6,
      "outputs": [
        {
          "output_type": "execute_result",
          "data": {
            "application/vnd.google.colaboratory.intrinsic+json": {
              "type": "string"
            },
            "text/plain": [
              "'torch.cuda.FloatTensor'"
            ]
          },
          "metadata": {},
          "execution_count": 6
        }
      ]
    },
    {
      "cell_type": "code",
      "metadata": {
        "colab": {
          "base_uri": "https://localhost:8080/"
        },
        "id": "n0ZFEkCvU-86",
        "outputId": "97727769-ea39-425e-d8d4-d314089a5d81"
      },
      "source": [
        "x.device"
      ],
      "execution_count": 8,
      "outputs": [
        {
          "output_type": "execute_result",
          "data": {
            "text/plain": [
              "device(type='cuda', index=0)"
            ]
          },
          "metadata": {},
          "execution_count": 8
        }
      ]
    },
    {
      "cell_type": "code",
      "metadata": {
        "colab": {
          "base_uri": "https://localhost:8080/"
        },
        "id": "HzUOl27bU_AD",
        "outputId": "0191909c-0f29-40ba-8b3d-f23964f409df"
      },
      "source": [
        "y=x*x\n",
        "y"
      ],
      "execution_count": 9,
      "outputs": [
        {
          "output_type": "execute_result",
          "data": {
            "text/plain": [
              "tensor([12.2500], device='cuda:0')"
            ]
          },
          "metadata": {},
          "execution_count": 9
        }
      ]
    },
    {
      "cell_type": "code",
      "metadata": {
        "id": "Jp74PrmQU_Ct"
      },
      "source": [
        "aa=torch.cuda.FloatTensor(a)\n",
        "bb=torch.cuda.FloatTensor(b)"
      ],
      "execution_count": 10,
      "outputs": []
    },
    {
      "cell_type": "code",
      "metadata": {
        "colab": {
          "base_uri": "https://localhost:8080/"
        },
        "id": "-iwoLT-FU_Fi",
        "outputId": "4ad48905-5b62-40be-c895-48684efe3ab9"
      },
      "source": [
        "%%timeit\n",
        "\n",
        "cc=torch.matmul(aa, bb)"
      ],
      "execution_count": 13,
      "outputs": [
        {
          "output_type": "stream",
          "name": "stdout",
          "text": [
            "The slowest run took 169.04 times longer than the fastest. This could mean that an intermediate result is being cached.\n",
            "10000 loops, best of 5: 272 µs per loop\n"
          ]
        }
      ]
    },
    {
      "cell_type": "code",
      "metadata": {
        "colab": {
          "base_uri": "https://localhost:8080/"
        },
        "id": "L5oomXhkU_If",
        "outputId": "042bcdff-1694-44bd-ae5f-ae576a656f7c"
      },
      "source": [
        "if torch.cuda.is_available():\n",
        "  torch.set_default_tensor_type(torch.cuda.FloatTensor)\n",
        "  print(\"using cuda:\", torch.cuda.get_device_name(0))\n",
        "  pass\n",
        "device=torch.device(\"cuda\" if torch.cuda.is_available() else \"cpu\")\n",
        "\n",
        "device"
      ],
      "execution_count": 14,
      "outputs": [
        {
          "output_type": "stream",
          "name": "stdout",
          "text": [
            "using cuda: Tesla K80\n"
          ]
        },
        {
          "output_type": "execute_result",
          "data": {
            "text/plain": [
              "device(type='cuda')"
            ]
          },
          "metadata": {},
          "execution_count": 14
        }
      ]
    },
    {
      "cell_type": "code",
      "metadata": {
        "id": "2gt0xCVGU_LF"
      },
      "source": [
        ""
      ],
      "execution_count": 11,
      "outputs": []
    },
    {
      "cell_type": "code",
      "metadata": {
        "id": "ucSwe9u8U_OO"
      },
      "source": [
        ""
      ],
      "execution_count": 11,
      "outputs": []
    },
    {
      "cell_type": "code",
      "metadata": {
        "id": "hhoetikqU_RS"
      },
      "source": [
        ""
      ],
      "execution_count": 11,
      "outputs": []
    }
  ]
}